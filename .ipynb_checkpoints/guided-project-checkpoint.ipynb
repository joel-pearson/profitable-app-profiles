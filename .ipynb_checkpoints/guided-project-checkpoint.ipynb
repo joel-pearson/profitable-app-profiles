{
 "cells": [
  {
   "cell_type": "markdown",
   "id": "e33f31f0",
   "metadata": {},
   "source": [
    "## Profitable App Profiles for the App Store and Google Play Markets\n",
    "\n",
    "This project aims to analyse IOS and Android app data to help developers gain a better understanding of what type of apps are likely to attract more users on both Google Play and the App Store.\n",
    "\n",
    "---"
   ]
  },
  {
   "cell_type": "code",
   "execution_count": 1,
   "id": "7c9c1c2c",
   "metadata": {},
   "outputs": [],
   "source": [
    "from csv import reader\n",
    "\n",
    "# function to read dataset\n",
    "def read_dataset(file, header=False):\n",
    "    opened_file = open(file, encoding='utf8')\n",
    "    read_file = reader(opened_file)\n",
    "    dataset = list(read_file)\n",
    "    if header:\n",
    "        header = dataset[0]\n",
    "        dataset = dataset[1:]\n",
    "        return dataset, header\n",
    "    else:\n",
    "        return dataset\n",
    "\n",
    "# read datasets and store to respective variables\n",
    "ios_data, ios_header = read_dataset('data/AppleStore.csv', header=True)\n",
    "android_data, android_header = read_dataset('data/googleplaystore.csv', header=True)"
   ]
  },
  {
   "cell_type": "code",
   "execution_count": 2,
   "id": "ac241d1c",
   "metadata": {},
   "outputs": [
    {
     "name": "stdout",
     "output_type": "stream",
     "text": [
      "IOS app data:\n",
      "\n",
      "['389801252', 'Instagram', '113954816', 'USD', '0.0', '2161558', '1289', '4.5', '4.0', '10.23', '12+', 'Photo & Video', '37', '0', '29', '1']\n",
      "\n",
      "\n",
      "['529479190', 'Clash of Clans', '116476928', 'USD', '0.0', '2130805', '579', '4.5', '4.5', '9.24.12', '9+', 'Games', '38', '5', '18', '1']\n",
      "\n",
      "\n",
      "['420009108', 'Temple Run', '65921024', 'USD', '0.0', '1724546', '3842', '4.5', '4.0', '1.6.2', '9+', 'Games', '40', '5', '1', '1']\n",
      "\n",
      "\n",
      "Number of rows: 7197\n",
      "Number of columns: 16\n",
      "\n",
      "\n",
      "Android app data:\n",
      "\n",
      "['Coloring book moana', 'ART_AND_DESIGN', '3.9', '967', '14M', '500,000+', 'Free', '0', 'Everyone', 'Art & Design;Pretend Play', 'January 15, 2018', '2.0.0', '4.0.3 and up']\n",
      "\n",
      "\n",
      "['U Launcher Lite – FREE Live Cool Themes, Hide Apps', 'ART_AND_DESIGN', '4.7', '87510', '8.7M', '5,000,000+', 'Free', '0', 'Everyone', 'Art & Design', 'August 1, 2018', '1.2.4', '4.0.3 and up']\n",
      "\n",
      "\n",
      "['Sketch - Draw & Paint', 'ART_AND_DESIGN', '4.5', '215644', '25M', '50,000,000+', 'Free', '0', 'Teen', 'Art & Design', 'June 8, 2018', 'Varies with device', '4.2 and up']\n",
      "\n",
      "\n",
      "Number of rows: 10841\n",
      "Number of columns: 13\n"
     ]
    }
   ],
   "source": [
    "def explore_data(dataset, start, end, rows_and_columns=False):\n",
    "    dataset_slice = dataset[start:end]    \n",
    "    for row in dataset_slice:\n",
    "        print(row)\n",
    "        print('\\n') # adds a new (empty) line after each row\n",
    "\n",
    "    if rows_and_columns:\n",
    "        print('Number of rows:', len(dataset))\n",
    "        print('Number of columns:', len(dataset[0]))\n",
    "        \n",
    "# explore app store data\n",
    "print('IOS app data:\\n')\n",
    "explore_data(ios_data, 1, 4, True)\n",
    "\n",
    "# explore android app data\n",
    "print('\\n\\nAndroid app data:\\n')\n",
    "explore_data(android_data, 1, 4, True)"
   ]
  },
  {
   "cell_type": "markdown",
   "id": "8da4a5bc",
   "metadata": {},
   "source": [
    "---\n",
    "From looking at the columns below, I think that:\n",
    "\n",
    "for the IOS app data (available [here](https://www.kaggle.com/ramamet4/app-store-apple-data-set-10k-apps?select=AppleStore.csv)). The most useful features will be:\n",
    "\n",
    "| column name      | index |\n",
    "| ---------------- | ----- |\n",
    "| size_bytes       | 0     |\n",
    "| price            | 4     |\n",
    "| rating_count_tot | 5     |\n",
    "| user_rating      | 7     |\n",
    "| cont_rating      | 10    |\n",
    "| prime_genre      | 11    |\n",
    "\n",
    "\n",
    "for the android app data (available [here](https://www.kaggle.com/lava18/google-play-store-apps)). The most useful features will be:\n",
    "\n",
    "| column name    | index |\n",
    "| -------------- | ----- |\n",
    "| category       | 1     |\n",
    "| rating         | 2     |\n",
    "| reviews        | 3     |\n",
    "| size           | 4     |\n",
    "| installs       | 5     |\n",
    "| type           | 6     |\n",
    "| price          | 7     |\n",
    "| content_rating | 8     |\n",
    "| genres         | 9     |\n",
    "\n",
    "---\n",
    "\n",
    "## Delete samples with missing values\n",
    "\n",
    "The Google Play data set has a dedicated discussion section, and we can see that one of the discussions (available [here](https://www.kaggle.com/lava18/google-play-store-apps/discussion/66015)) outlines an error for row 10472. Let's print this row and compare it against the header and another row that is correct.\n",
    "\n",
    "---"
   ]
  },
  {
   "cell_type": "code",
   "execution_count": 3,
   "id": "b018c5c5",
   "metadata": {},
   "outputs": [
    {
     "name": "stdout",
     "output_type": "stream",
     "text": [
      "['Life Made WI-Fi Touchscreen Photo Frame', '1.9', '19', '3.0M', '1,000+', 'Free', '0', 'Everyone', '', 'February 11, 2018', '1.0.19', '4.0 and up']\n",
      "\n",
      "\n",
      "['App', 'Category', 'Rating', 'Reviews', 'Size', 'Installs', 'Type', 'Price', 'Content Rating', 'Genres', 'Last Updated', 'Current Ver', 'Android Ver']\n",
      "\n",
      "\n",
      "['Photo Editor & Candy Camera & Grid & ScrapBook', 'ART_AND_DESIGN', '4.1', '159', '19M', '10,000+', 'Free', '0', 'Everyone', 'Art & Design', 'January 7, 2018', '1.0.0', '4.0.3 and up']\n"
     ]
    }
   ],
   "source": [
    "print(android_data[10472])  # incorrect row\n",
    "print('\\n')\n",
    "print(android_header)  # header\n",
    "print('\\n')\n",
    "print(android_data[0])      # correct row"
   ]
  },
  {
   "cell_type": "markdown",
   "id": "6a2aa299",
   "metadata": {},
   "source": [
    "---\n",
    "\n",
    "The row 10472 corresponds to the app 'Life Made WI-Fi Touchscreen Photo Frame', and we can see that the rating is 19. This is clearly off because the maximum rating for a Google Play app is 5 (as mentioned in the discussions section, this problem is caused by a missing value in the 'Category' column). As a consequence, we'll delete this row.\n",
    "\n",
    "---"
   ]
  },
  {
   "cell_type": "code",
   "execution_count": 4,
   "id": "aed52988",
   "metadata": {},
   "outputs": [],
   "source": [
    "# delete row with missing value for android data\n",
    "del android_data[10472]"
   ]
  },
  {
   "cell_type": "markdown",
   "id": "16fd85c8",
   "metadata": {},
   "source": [
    "---\n",
    "\n",
    "## Remove duplicate samples\n",
    "\n",
    "As shown below, the android dataset contains duplicate entries. It is important these duplicates are removed before analysis as we don't want to analyse the same app more than once. \n",
    "\n",
    "From the output below, we can see that the duplicate entries for 'Instagram' only differ for their number of reviews. This is because the data samples have been taken at different times. \n",
    "\n",
    "---"
   ]
  },
  {
   "cell_type": "code",
   "execution_count": 5,
   "id": "76d6b647",
   "metadata": {},
   "outputs": [
    {
     "name": "stdout",
     "output_type": "stream",
     "text": [
      "['Instagram', 'SOCIAL', '4.5', '66577313', 'Varies with device', '1,000,000,000+', 'Free', '0', 'Teen', 'Social', 'July 31, 2018', 'Varies with device', 'Varies with device']\n",
      "['Instagram', 'SOCIAL', '4.5', '66577446', 'Varies with device', '1,000,000,000+', 'Free', '0', 'Teen', 'Social', 'July 31, 2018', 'Varies with device', 'Varies with device']\n",
      "['Instagram', 'SOCIAL', '4.5', '66577313', 'Varies with device', '1,000,000,000+', 'Free', '0', 'Teen', 'Social', 'July 31, 2018', 'Varies with device', 'Varies with device']\n",
      "['Instagram', 'SOCIAL', '4.5', '66509917', 'Varies with device', '1,000,000,000+', 'Free', '0', 'Teen', 'Social', 'July 31, 2018', 'Varies with device', 'Varies with device']\n"
     ]
    }
   ],
   "source": [
    "for i in android_data:\n",
    "    name = i[0]\n",
    "    if name == 'Instagram':\n",
    "        print(i)"
   ]
  },
  {
   "cell_type": "markdown",
   "id": "76c48ad8",
   "metadata": {},
   "source": [
    "---\n",
    "\n",
    "The code below shows the total number of dupliate values. The strategy for removing these duplicate values will be to only keep the most recent entry, which is indicated through the sample with the highest number of reviews for each duplicate app. \n",
    "\n",
    "---"
   ]
  },
  {
   "cell_type": "code",
   "execution_count": 6,
   "id": "b9666345",
   "metadata": {},
   "outputs": [
    {
     "name": "stdout",
     "output_type": "stream",
     "text": [
      "Number of duplicate values: 1181\n"
     ]
    }
   ],
   "source": [
    "# show total number of duplicate values\n",
    "duplicate_apps = []\n",
    "unique_apps = []\n",
    "\n",
    "for i in android_data:\n",
    "    name = i[0]\n",
    "    if name in unique_apps:\n",
    "        duplicate_apps.append(name)\n",
    "    else:\n",
    "        unique_apps.append(name)\n",
    "        \n",
    "print('Number of duplicate values:', len(duplicate_apps))"
   ]
  },
  {
   "cell_type": "code",
   "execution_count": 7,
   "id": "fe94eb16",
   "metadata": {},
   "outputs": [],
   "source": [
    "# create a dictionary where the key is a unique app name and the corresponding dictionary value is the highest number of reviews\n",
    "reviews_max = {}\n",
    "for i in android_data:\n",
    "    name = i[0]\n",
    "    n_reviews = float(i[3])\n",
    "    if name in reviews_max and reviews_max[name] < n_reviews:\n",
    "        reviews_max[name] = n_reviews\n",
    "    elif name not in reviews_max:\n",
    "        reviews_max[name] = n_reviews\n",
    "\n",
    "# use created dictionary to remove duplicate rows\n",
    "android_clean = []\n",
    "already_added = []\n",
    "for i in android_data:\n",
    "    name = i[0]\n",
    "    n_reviews = float(i[3])\n",
    "    if n_reviews == reviews_max[name] and name not in already_added:\n",
    "        android_clean.append(i)\n",
    "        already_added.append(name)"
   ]
  },
  {
   "cell_type": "markdown",
   "id": "2ec6d8a0",
   "metadata": {},
   "source": [
    "---\n",
    "\n",
    "## Handling non-english apps\n",
    "\n",
    "If you explore the data sets enough, you'll notice the names of some of the apps suggest they are not directed toward an English-speaking audience.\n",
    "\n",
    "We're not interested in keeping these kind of apps, so we'll remove them. One way to go about this is to remove each app whose name contains a symbol that is not commonly used in English text — English text usually includes letters from the English alphabet, numbers composed of digits from 0 to 9, punctuation marks (., !, ?, ;, etc.), and other symbols (+, *, /, etc.).\n",
    "\n",
    "All these characters that are specific to English texts are encoded using the ASCII standard. Each ASCII character has a corresponding number between 0 and 127 associated with it, and we can take advantage of that to build a function that checks an app name and tells us whether it contains non-ASCII characters.\n",
    "\n",
    "The function below, uses the built-in ord() function to find out the corresponding encoding number of each character. To minimize the impact of data loss, we'll only remove an app if its name has more than three non-ASCII characters.\n",
    "\n",
    "---"
   ]
  },
  {
   "cell_type": "code",
   "execution_count": 8,
   "id": "0b1a0990",
   "metadata": {},
   "outputs": [
    {
     "name": "stdout",
     "output_type": "stream",
     "text": [
      "String: 'Instagram', is in english: True\n",
      "String: '爱奇艺PPS -《欢乐颂2》电视剧热播', is in english: False\n",
      "String: 'Docs To Go™ Free Office Suite', is in english: True\n",
      "String: 'Instachat 😜', is in english: True\n"
     ]
    }
   ],
   "source": [
    "# function for detecting string with non-english characters\n",
    "def english_char(string):\n",
    "    n_char = 0\n",
    "    for i in string:\n",
    "        if ord(i) > 127:\n",
    "            n_char += 1\n",
    "    \n",
    "    if n_char > 3:\n",
    "        return False\n",
    "    else:\n",
    "        return True\n",
    "\n",
    "# testing function\n",
    "print('String: \\'Instagram\\', is in english:', english_char('Instagram'))\n",
    "print('String: \\'爱奇艺PPS -《欢乐颂2》电视剧热播\\', is in english:', english_char('爱奇艺PPS -《欢乐颂2》电视剧热播'))\n",
    "print('String: \\'Docs To Go™ Free Office Suite\\', is in english:', english_char('Docs To Go™ Free Office Suite'))\n",
    "print('String: \\'Instachat 😜\\', is in english:', english_char('Instachat 😜'))"
   ]
  },
  {
   "cell_type": "markdown",
   "id": "9c410de7",
   "metadata": {},
   "source": [
    "---\n",
    "\n",
    "The function is still not perfect, and very few non-English apps might get past our filter, but this seems good enough at this point in our analysis — we shouldn't spend too much time on optimization at this point.\n",
    "\n",
    "Below, we use the is_english() function to filter out the non-English apps for both data sets:\n",
    "\n",
    "---"
   ]
  },
  {
   "cell_type": "code",
   "execution_count": 9,
   "id": "c1434dd5",
   "metadata": {},
   "outputs": [
    {
     "name": "stdout",
     "output_type": "stream",
     "text": [
      "Number of android apps: 9614\n",
      "Number of IOS apps: 6183\n"
     ]
    }
   ],
   "source": [
    "# remove non-english apps for android\n",
    "android_english = []\n",
    "for i in android_clean:\n",
    "    name = i[0]\n",
    "    english = english_char(name)\n",
    "    if english:\n",
    "        android_english.append(i)\n",
    "        \n",
    "# remove non-english apps for IOS\n",
    "ios_english = []\n",
    "for i in ios_data:\n",
    "    name = i[1]\n",
    "    english = english_char(name)\n",
    "    if english:\n",
    "        ios_english.append(i)\n",
    "\n",
    "print('Number of android apps:', len(android_english))\n",
    "print('Number of IOS apps:', len(ios_english))"
   ]
  },
  {
   "cell_type": "code",
   "execution_count": 10,
   "id": "e53a9219",
   "metadata": {},
   "outputs": [
    {
     "name": "stdout",
     "output_type": "stream",
     "text": [
      "Total number of samples (android): 8864\n",
      "Total number of samples (ios): 3222\n"
     ]
    }
   ],
   "source": [
    "# free apps for android apps\n",
    "android_free_apps = []\n",
    "for i in android_english:\n",
    "    price = i[7]\n",
    "    if price == '0':\n",
    "        android_free_apps.append(i)\n",
    "\n",
    "# free apps for IOS apps\n",
    "ios_free_apps = []\n",
    "for i in ios_english:\n",
    "    price = float(i[4])\n",
    "    if price == 0:\n",
    "        ios_free_apps.append(i)\n",
    "        \n",
    "# assign datasets to new variables\n",
    "android_final = android_free_apps\n",
    "ios_final = ios_free_apps\n",
    "\n",
    "print('Total number of samples (android):', len(android_final))\n",
    "print('Total number of samples (ios):', len(ios_final))"
   ]
  },
  {
   "cell_type": "markdown",
   "id": "a6dbd7bb",
   "metadata": {},
   "source": [
    "---\n",
    "\n",
    "The overall goal is to determine the kinds of apps that are likely to attract more users because the number of people using our apps affect our revenue.\n",
    "\n",
    "To minimize risks and overhead, our validation strategy for an app idea has three steps:\n",
    "- Build a minimal Android version of the app, and add it to Google Play.\n",
    "- If the app has a good response from users, we develop it further.\n",
    "- If the app is profitable after six months, we build an iOS version of the app and add it to the App Store.\n",
    "\n",
    "Because our end goal is to add the app on both Google Play and the App Store, we need to find app profiles that are successful in both markets. For instance, a profile that works well for both markets might be a productivity app that makes use of gamification. \n",
    "\n",
    "From inspecting the data we can identify the columns that might be useful for determing the most common genres in the market. We'll need to create a frequency table for the 'prime_genre' column in the IOS dataset, and the 'Genres' and 'Category' columns for the android dataset.\n",
    "\n",
    "---"
   ]
  },
  {
   "cell_type": "code",
   "execution_count": 11,
   "id": "babcae1a",
   "metadata": {},
   "outputs": [],
   "source": [
    "# function for creating frequency tables for any column\n",
    "def freq_table(dataset, index, percent=True):\n",
    "    dictionary = {}\n",
    "    total = 0\n",
    "    for i in dataset:\n",
    "        total += 1\n",
    "        col = i[index]\n",
    "        if col in dictionary:\n",
    "            dictionary[col] += 1\n",
    "        else:\n",
    "            dictionary[col] = 1\n",
    "    \n",
    "    if percent:\n",
    "        for i in dictionary:\n",
    "            percentage = (dictionary[i] / total) * 100\n",
    "            dictionary[i] = percentage\n",
    "        \n",
    "    return dictionary\n",
    "\n",
    "# function for dispaying a frequency table in decending order\n",
    "def display_table(dataset, index):\n",
    "    table = freq_table(dataset, index)\n",
    "    table_display = []\n",
    "    for key in table:\n",
    "        key_val_as_tuple = (table[key], key)\n",
    "        table_display.append(key_val_as_tuple)\n",
    "\n",
    "    table_sorted = sorted(table_display, reverse = True)\n",
    "    for entry in table_sorted:\n",
    "        print(entry[1], ':', entry[0])"
   ]
  },
  {
   "cell_type": "code",
   "execution_count": 12,
   "id": "9b5de03d",
   "metadata": {},
   "outputs": [
    {
     "name": "stdout",
     "output_type": "stream",
     "text": [
      "Games : 58.16263190564867\n",
      "Entertainment : 7.883302296710118\n",
      "Photo & Video : 4.9658597144630665\n",
      "Education : 3.662321539416512\n",
      "Social Networking : 3.2898820608317814\n",
      "Shopping : 2.60707635009311\n",
      "Utilities : 2.5139664804469275\n",
      "Sports : 2.1415270018621975\n",
      "Music : 2.0484171322160147\n",
      "Health & Fitness : 2.0173805090006205\n",
      "Productivity : 1.7380509000620732\n",
      "Lifestyle : 1.5828677839851024\n",
      "News : 1.3345747982619491\n",
      "Travel : 1.2414649286157666\n",
      "Finance : 1.1173184357541899\n",
      "Weather : 0.8690254500310366\n",
      "Food & Drink : 0.8069522036002483\n",
      "Reference : 0.5586592178770949\n",
      "Business : 0.5276225946617008\n",
      "Book : 0.4345127250155183\n",
      "Navigation : 0.186219739292365\n",
      "Medical : 0.186219739292365\n",
      "Catalogs : 0.12414649286157665\n"
     ]
    }
   ],
   "source": [
    "# create frequency table (in percent) for the 'prime_genre' column in the IOS dataset\n",
    "display_table(ios_final, 11)"
   ]
  },
  {
   "cell_type": "markdown",
   "id": "5133a6ed",
   "metadata": {},
   "source": [
    "---\n",
    "\n",
    "\n",
    "We can see that among the free English apps, more than a half (58.16%) are games. Entertainment apps are close to 8%, followed by photo and video apps, which are close to 5%. Only 3.66% of the apps are designed for education, followed by social networking apps which amount for 3.29% of the apps in our data set.\n",
    "\n",
    "The general impression is that App Store (at least the part containing free English apps) is dominated by apps that are designed for fun (games, entertainment, photo and video, social networking, sports, music, etc.), while apps with practical purposes (education, shopping, utilities, productivity, lifestyle, etc.) are more rare. However, the fact that fun apps are the most numerous doesn't also imply that they also have the greatest number of users — the demand might not be the same as the offer.\n",
    "\n",
    "---"
   ]
  },
  {
   "cell_type": "code",
   "execution_count": 13,
   "id": "61774d9a",
   "metadata": {},
   "outputs": [
    {
     "name": "stdout",
     "output_type": "stream",
     "text": [
      "FAMILY : 18.907942238267147\n",
      "GAME : 9.724729241877256\n",
      "TOOLS : 8.461191335740072\n",
      "BUSINESS : 4.591606498194946\n",
      "LIFESTYLE : 3.9034296028880866\n",
      "PRODUCTIVITY : 3.892148014440433\n",
      "FINANCE : 3.7003610108303246\n",
      "MEDICAL : 3.531137184115524\n",
      "SPORTS : 3.395758122743682\n",
      "PERSONALIZATION : 3.3167870036101084\n",
      "COMMUNICATION : 3.2378158844765346\n",
      "HEALTH_AND_FITNESS : 3.0798736462093865\n",
      "PHOTOGRAPHY : 2.944494584837545\n",
      "NEWS_AND_MAGAZINES : 2.7978339350180503\n",
      "SOCIAL : 2.6624548736462095\n",
      "TRAVEL_AND_LOCAL : 2.33528880866426\n",
      "SHOPPING : 2.2450361010830324\n",
      "BOOKS_AND_REFERENCE : 2.1435018050541514\n",
      "DATING : 1.861462093862816\n",
      "VIDEO_PLAYERS : 1.7937725631768955\n",
      "MAPS_AND_NAVIGATION : 1.3989169675090252\n",
      "FOOD_AND_DRINK : 1.2409747292418771\n",
      "EDUCATION : 1.1620036101083033\n",
      "ENTERTAINMENT : 0.9589350180505415\n",
      "LIBRARIES_AND_DEMO : 0.9363718411552346\n",
      "AUTO_AND_VEHICLES : 0.9250902527075812\n",
      "HOUSE_AND_HOME : 0.8235559566787004\n",
      "WEATHER : 0.8009927797833934\n",
      "EVENTS : 0.7107400722021661\n",
      "PARENTING : 0.6543321299638989\n",
      "ART_AND_DESIGN : 0.6430505415162455\n",
      "COMICS : 0.6204873646209386\n",
      "BEAUTY : 0.5979241877256317\n"
     ]
    }
   ],
   "source": [
    "# create frequency table (in percent) for the 'Category' column in the Android dataset\n",
    "display_table(android_final, 1)"
   ]
  },
  {
   "cell_type": "markdown",
   "id": "26aaa5d1",
   "metadata": {},
   "source": [
    "---\n",
    "\n",
    "The landscape seems significantly different on Google Play: there are not that many apps designed for fun, and it seems that a good number of apps are designed for practical purposes (family, tools, business, lifestyle, productivity, etc.). However, if we investigate this further, we can see that the family category (which accounts for almost 19% of the apps) means mostly games for kids.\n",
    "\n",
    "---"
   ]
  },
  {
   "cell_type": "code",
   "execution_count": 14,
   "id": "e9eb7657",
   "metadata": {},
   "outputs": [
    {
     "name": "stdout",
     "output_type": "stream",
     "text": [
      "Tools : 8.449909747292418\n",
      "Entertainment : 6.069494584837545\n",
      "Education : 5.347472924187725\n",
      "Business : 4.591606498194946\n",
      "Productivity : 3.892148014440433\n",
      "Lifestyle : 3.892148014440433\n",
      "Finance : 3.7003610108303246\n",
      "Medical : 3.531137184115524\n",
      "Sports : 3.463447653429603\n",
      "Personalization : 3.3167870036101084\n",
      "Communication : 3.2378158844765346\n",
      "Action : 3.1024368231046933\n",
      "Health & Fitness : 3.0798736462093865\n",
      "Photography : 2.944494584837545\n",
      "News & Magazines : 2.7978339350180503\n",
      "Social : 2.6624548736462095\n",
      "Travel & Local : 2.3240072202166067\n",
      "Shopping : 2.2450361010830324\n",
      "Books & Reference : 2.1435018050541514\n",
      "Simulation : 2.0419675090252705\n",
      "Dating : 1.861462093862816\n",
      "Arcade : 1.8501805054151623\n",
      "Video Players & Editors : 1.7712093862815883\n",
      "Casual : 1.7599277978339352\n",
      "Maps & Navigation : 1.3989169675090252\n",
      "Food & Drink : 1.2409747292418771\n",
      "Puzzle : 1.128158844765343\n",
      "Racing : 0.9927797833935018\n",
      "Role Playing : 0.9363718411552346\n",
      "Libraries & Demo : 0.9363718411552346\n",
      "Auto & Vehicles : 0.9250902527075812\n",
      "Strategy : 0.9138086642599278\n",
      "House & Home : 0.8235559566787004\n",
      "Weather : 0.8009927797833934\n",
      "Events : 0.7107400722021661\n",
      "Adventure : 0.6768953068592057\n",
      "Comics : 0.6092057761732852\n",
      "Beauty : 0.5979241877256317\n",
      "Art & Design : 0.5979241877256317\n",
      "Parenting : 0.4963898916967509\n",
      "Card : 0.45126353790613716\n",
      "Casino : 0.42870036101083037\n",
      "Trivia : 0.41741877256317694\n",
      "Educational;Education : 0.39485559566787\n",
      "Board : 0.3835740072202166\n",
      "Educational : 0.3722924187725632\n",
      "Education;Education : 0.33844765342960287\n",
      "Word : 0.2594765342960289\n",
      "Casual;Pretend Play : 0.236913357400722\n",
      "Music : 0.2030685920577617\n",
      "Racing;Action & Adventure : 0.16922382671480143\n",
      "Puzzle;Brain Games : 0.16922382671480143\n",
      "Entertainment;Music & Video : 0.16922382671480143\n",
      "Casual;Brain Games : 0.13537906137184114\n",
      "Casual;Action & Adventure : 0.13537906137184114\n",
      "Arcade;Action & Adventure : 0.12409747292418773\n",
      "Action;Action & Adventure : 0.10153429602888085\n",
      "Educational;Pretend Play : 0.09025270758122744\n",
      "Simulation;Action & Adventure : 0.078971119133574\n",
      "Parenting;Education : 0.078971119133574\n",
      "Entertainment;Brain Games : 0.078971119133574\n",
      "Board;Brain Games : 0.078971119133574\n",
      "Parenting;Music & Video : 0.06768953068592057\n",
      "Educational;Brain Games : 0.06768953068592057\n",
      "Casual;Creativity : 0.06768953068592057\n",
      "Art & Design;Creativity : 0.06768953068592057\n",
      "Education;Pretend Play : 0.056407942238267145\n",
      "Role Playing;Pretend Play : 0.04512635379061372\n",
      "Education;Creativity : 0.04512635379061372\n",
      "Role Playing;Action & Adventure : 0.033844765342960284\n",
      "Puzzle;Action & Adventure : 0.033844765342960284\n",
      "Entertainment;Creativity : 0.033844765342960284\n",
      "Entertainment;Action & Adventure : 0.033844765342960284\n",
      "Educational;Creativity : 0.033844765342960284\n",
      "Educational;Action & Adventure : 0.033844765342960284\n",
      "Education;Music & Video : 0.033844765342960284\n",
      "Education;Brain Games : 0.033844765342960284\n",
      "Education;Action & Adventure : 0.033844765342960284\n",
      "Adventure;Action & Adventure : 0.033844765342960284\n",
      "Video Players & Editors;Music & Video : 0.02256317689530686\n",
      "Sports;Action & Adventure : 0.02256317689530686\n",
      "Simulation;Pretend Play : 0.02256317689530686\n",
      "Puzzle;Creativity : 0.02256317689530686\n",
      "Music;Music & Video : 0.02256317689530686\n",
      "Entertainment;Pretend Play : 0.02256317689530686\n",
      "Casual;Education : 0.02256317689530686\n",
      "Board;Action & Adventure : 0.02256317689530686\n",
      "Video Players & Editors;Creativity : 0.01128158844765343\n",
      "Trivia;Education : 0.01128158844765343\n",
      "Travel & Local;Action & Adventure : 0.01128158844765343\n",
      "Tools;Education : 0.01128158844765343\n",
      "Strategy;Education : 0.01128158844765343\n",
      "Strategy;Creativity : 0.01128158844765343\n",
      "Strategy;Action & Adventure : 0.01128158844765343\n",
      "Simulation;Education : 0.01128158844765343\n",
      "Role Playing;Brain Games : 0.01128158844765343\n",
      "Racing;Pretend Play : 0.01128158844765343\n",
      "Puzzle;Education : 0.01128158844765343\n",
      "Parenting;Brain Games : 0.01128158844765343\n",
      "Music & Audio;Music & Video : 0.01128158844765343\n",
      "Lifestyle;Pretend Play : 0.01128158844765343\n",
      "Lifestyle;Education : 0.01128158844765343\n",
      "Health & Fitness;Education : 0.01128158844765343\n",
      "Health & Fitness;Action & Adventure : 0.01128158844765343\n",
      "Entertainment;Education : 0.01128158844765343\n",
      "Communication;Creativity : 0.01128158844765343\n",
      "Comics;Creativity : 0.01128158844765343\n",
      "Casual;Music & Video : 0.01128158844765343\n",
      "Card;Action & Adventure : 0.01128158844765343\n",
      "Books & Reference;Education : 0.01128158844765343\n",
      "Art & Design;Pretend Play : 0.01128158844765343\n",
      "Art & Design;Action & Adventure : 0.01128158844765343\n",
      "Arcade;Pretend Play : 0.01128158844765343\n",
      "Adventure;Education : 0.01128158844765343\n"
     ]
    }
   ],
   "source": [
    "# create frequency table (in percent) for the 'Genres' column in the Android dataset\n",
    "display_table(android_final, 9)"
   ]
  },
  {
   "cell_type": "markdown",
   "id": "388a0f4f",
   "metadata": {},
   "source": [
    "---\n",
    "\n",
    "The difference between the Genres and the Category columns is not crystal clear, but one thing we can notice is that the Genres column is much more granular (it has more categories). We're only looking for the bigger picture at the moment, so we'll only work with the Category column moving forward.\n",
    "\n",
    "Up to this point, we found that the App Store is dominated by apps designed for fun, while Google Play shows a more balanced landscape of both practical and for-fun apps. Now we'd like to get an idea about the kind of apps that have the most users.\n",
    "\n",
    "One way to find out what genres are the most popular (have the most users) is to calculate the average number of installs for each app genre. For the Google Play data set, we can find this information in the 'Installs' column, but this information is missing for the App Store data set. As a workaround, we'll take the total number of user ratings as a proxy, which we can find in the 'rating_count_tot' column.\n",
    "\n",
    "---\n",
    "\n",
    "## Most Popular Apps by Genre\n",
    "\n",
    "---"
   ]
  },
  {
   "cell_type": "code",
   "execution_count": 15,
   "id": "4db952fd",
   "metadata": {},
   "outputs": [
    {
     "name": "stdout",
     "output_type": "stream",
     "text": [
      "Social Networking : 71548.34905660378\n",
      "Photo & Video : 28441.54375\n",
      "Games : 22788.6696905016\n",
      "Music : 57326.530303030304\n",
      "Reference : 74942.11111111111\n",
      "Health & Fitness : 23298.015384615384\n",
      "Weather : 52279.892857142855\n",
      "Utilities : 18684.456790123455\n",
      "Travel : 28243.8\n",
      "Shopping : 26919.690476190477\n",
      "News : 21248.023255813954\n",
      "Navigation : 86090.33333333333\n",
      "Lifestyle : 16485.764705882353\n",
      "Entertainment : 14029.830708661417\n",
      "Food & Drink : 33333.92307692308\n",
      "Sports : 23008.898550724636\n",
      "Book : 39758.5\n",
      "Finance : 31467.944444444445\n",
      "Education : 7003.983050847458\n",
      "Productivity : 21028.410714285714\n",
      "Business : 7491.117647058823\n",
      "Catalogs : 4004.0\n",
      "Medical : 612.0\n"
     ]
    }
   ],
   "source": [
    "# compute the average number of user ratings for all genres for IOS apps\n",
    "ios_genres = freq_table(ios_final, 11)\n",
    "for genre in ios_genres:\n",
    "    total = 0\n",
    "    len_genre = 0\n",
    "    \n",
    "    for app in ios_final:\n",
    "        genre_app = app[11]\n",
    "        if genre_app == genre:\n",
    "            n = float(app[5])  # number of ratings for that app\n",
    "            total += n  # the accumulated total number of ratings for a genre\n",
    "            len_genre += 1  # the number of apps of that genre\n",
    "            \n",
    "    avg = total / len_genre\n",
    "    print(genre, ':', avg)"
   ]
  },
  {
   "cell_type": "code",
   "execution_count": 16,
   "id": "94586df7",
   "metadata": {},
   "outputs": [
    {
     "name": "stdout",
     "output_type": "stream",
     "text": [
      "ART_AND_DESIGN : 1986335.0877192982\n",
      "AUTO_AND_VEHICLES : 647317.8170731707\n",
      "BEAUTY : 513151.88679245283\n",
      "BOOKS_AND_REFERENCE : 8767811.894736841\n",
      "BUSINESS : 1712290.1474201474\n",
      "COMICS : 817657.2727272727\n",
      "COMMUNICATION : 38456119.167247385\n",
      "DATING : 854028.8303030303\n",
      "EDUCATION : 1833495.145631068\n",
      "ENTERTAINMENT : 11640705.88235294\n",
      "EVENTS : 253542.22222222222\n",
      "FINANCE : 1387692.475609756\n",
      "FOOD_AND_DRINK : 1924897.7363636363\n",
      "HEALTH_AND_FITNESS : 4188821.9853479853\n",
      "HOUSE_AND_HOME : 1331540.5616438356\n",
      "LIBRARIES_AND_DEMO : 638503.734939759\n",
      "LIFESTYLE : 1437816.2687861272\n",
      "GAME : 15588015.603248259\n",
      "FAMILY : 3695641.8198090694\n",
      "MEDICAL : 120550.61980830671\n",
      "SOCIAL : 23253652.127118643\n",
      "SHOPPING : 7036877.311557789\n",
      "PHOTOGRAPHY : 17840110.40229885\n",
      "SPORTS : 3638640.1428571427\n",
      "TRAVEL_AND_LOCAL : 13984077.710144928\n",
      "TOOLS : 10801391.298666667\n",
      "PERSONALIZATION : 5201482.6122448975\n",
      "PRODUCTIVITY : 16787331.344927534\n",
      "PARENTING : 542603.6206896552\n",
      "WEATHER : 5074486.197183099\n",
      "VIDEO_PLAYERS : 24727872.452830188\n",
      "NEWS_AND_MAGAZINES : 9549178.467741935\n",
      "MAPS_AND_NAVIGATION : 4056941.7741935486\n"
     ]
    }
   ],
   "source": [
    "# compute the average number of installs for all genres for Android apps\n",
    "category_table = freq_table(android_final, 1)\n",
    "\n",
    "for category in category_table:\n",
    "    total = 0\n",
    "    len_category = 0\n",
    "    \n",
    "    for app in android_final:\n",
    "        category_app = app[1]\n",
    "        if category_app == category:\n",
    "            n = app[5]\n",
    "            n = n.replace('+', '')\n",
    "            n = n.replace(',', '')\n",
    "            n = float(n)\n",
    "            total += n\n",
    "            len_category += 1\n",
    "    \n",
    "    avg = total / len_category\n",
    "    print(category, ':', avg)"
   ]
  },
  {
   "cell_type": "markdown",
   "id": "80ac34e6",
   "metadata": {},
   "source": [
    "---\n",
    "\n",
    "## Conclusions\n",
    "\n",
    "For the IOS apps (Apple Store), we can see that the navigation apps have the highest number of reviews. However, since our system is not entirely accurate, because it doesnt take into account the number of installs, and we have seen previously that entertainment apps have the highest ratings, I would suggest to either make a social networking, navigation or reference app.\n",
    "\n",
    "For the Android apps (Google Play Store), we can see that game and social categories have the highest total number of installs which I would suggest being the best options for developers to build new apps into. Seeing as more people tend to install those kinds of apps, more people are likely to view and interact with ads which will be more profitable.\n",
    "\n",
    "Seeing as our stategy is to eventually have the app available in both markets, my overall suggestion would be to develop a an app in the social category as this will likely be successful in both markets.\n",
    "\n",
    "---"
   ]
  }
 ],
 "metadata": {
  "kernelspec": {
   "display_name": "Python 3",
   "language": "python",
   "name": "python3"
  },
  "language_info": {
   "codemirror_mode": {
    "name": "ipython",
    "version": 3
   },
   "file_extension": ".py",
   "mimetype": "text/x-python",
   "name": "python",
   "nbconvert_exporter": "python",
   "pygments_lexer": "ipython3",
   "version": "3.8.11"
  }
 },
 "nbformat": 4,
 "nbformat_minor": 5
}
