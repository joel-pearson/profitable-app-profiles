{
 "cells": [
  {
   "cell_type": "markdown",
   "id": "e33f31f0",
   "metadata": {},
   "source": [
    "## Data Analysis of Smartphone Apps\n",
    "\n",
    "This project aims to analyse IOS and Android app data to help developers gain a better understanding of what type of apps are likely to attract more users on both Google Play and the App Store."
   ]
  },
  {
   "cell_type": "code",
   "execution_count": 1,
   "id": "7c9c1c2c",
   "metadata": {},
   "outputs": [],
   "source": [
    "from csv import reader\n",
    "\n",
    "# function to read dataset\n",
    "def read_dataset(file, header=False):\n",
    "    opened_file = open(file, encoding='utf8')\n",
    "    read_file = reader(opened_file)\n",
    "    dataset = list(read_file)\n",
    "    if header:\n",
    "        header = dataset[0]\n",
    "        dataset = dataset[1:]\n",
    "        return dataset, header\n",
    "    else:\n",
    "        return dataset\n",
    "\n",
    "# read datasets and store to respective variables\n",
    "ios_data, ios_header = read_dataset('data/AppleStore.csv', header=True)\n",
    "android_data, android_header = read_dataset('data/googleplaystore.csv', header=True)"
   ]
  }
 ],
 "metadata": {
  "kernelspec": {
   "display_name": "Python 3",
   "language": "python",
   "name": "python3"
  },
  "language_info": {
   "codemirror_mode": {
    "name": "ipython",
    "version": 3
   },
   "file_extension": ".py",
   "mimetype": "text/x-python",
   "name": "python",
   "nbconvert_exporter": "python",
   "pygments_lexer": "ipython3",
   "version": "3.8.11"
  }
 },
 "nbformat": 4,
 "nbformat_minor": 5
}
